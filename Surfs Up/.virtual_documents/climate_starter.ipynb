%matplotlib inline
from matplotlib import style
style.use('fivethirtyeight')
import matplotlib.pyplot as plt


import numpy as np
import pandas as pd
import datetime as dt





# Python SQL toolkit and Object Relational Mapper
import sqlalchemy
from sqlalchemy.ext.automap import automap_base
from sqlalchemy.orm import Session
from sqlalchemy import create_engine, func
from sqlalchemy.ext.declarative import declarative_base


# create engine to hawaii.sqlite
engine = create_engine("sqlite:///Resources/hawaii.sqlite")


# reflect an existing database into a new model
Base = automap_base()
# reflect the tables
Base.prepare(engine, reflect=True)


# View all of the classes that automap found
Base.classes.keys()


# Save references to each table
Measurement = Base.classes.measurement
Station = Base.classes.station


# Create our session (link) from Python to the DB
py_session = Session(engine)





# Find the most recent date in the data set.
mrd = py_session.query(Measurement.date).order_by(Measurement.date.desc()).first()
mrd


# Design a query to retrieve the last 12 months of precipitation data and plot the results. 
# Starting from the most recent data point in the database. 
recent_data = dt.date(2017, 8, 23)
# Calculate the date one year from the last date in data set.
previous_year = recent_data - timedelta(days=365)

# Perform a query to retrieve the data and precipitation scores
precipitation = session.query(Measurement.date, Measurement.prcp).filter(Measurement.date >= previous_year)

# Save the query results as a Pandas DataFrame. Explicitly set the column names
pd_df = pd.DataFrame(precipitation, columns=['date','precipitation'])
pd_df.set_index(df['date'],inplace = True)
# Sort the dataframe by date
pd_df = df.sort_index()

# Use pd_Pandas Plotting with Matplotlib to plot the data
pd_df.plot()
plt.legend(loc= 'upper center')
plt.xticks(rotation = 90)
plt.show()


# Use Pandas to calculate the summary statistics for the precipitation data
pd_df.describe()





# Design a query to calculate the total number of stations in the dataset
total_stations = pysession.query(Station.station).count()
total_stations


# Design a query to find the most active stations (i.e. which stations have the most rows?)
# List the stations and their counts in descending order.
active_stations = session.query(Measurement.station, func.count(Measurement.station)).group_by(Measurement.station).order_by(func.count(Measurement.station).desc()).all()
active_stations


# Using the most active station id from the previous query, calculate the lowest, highest, and average temperature.
station_stats = session.query(func.min(Measurement.tobs),func.max(Measurement.tobs),func.avg(Measurement.tobs)).filter(Measurement.station == 'USC00519281').all()
station_stats


# Using the most active station id
# Query the last 12 months of temperature observation data for this station and plot the results as a histogram
most_active = session.query(Measurement.tobs).filter(Measurement.station == 'USC00519281').filter(Measurement.date >= last_year).all()
df = pd.DataFrame(most_active,columns=['tobs'])
df.plot.hist(bins=12, xlabel="Temperature")





# Close Session
session.close()



